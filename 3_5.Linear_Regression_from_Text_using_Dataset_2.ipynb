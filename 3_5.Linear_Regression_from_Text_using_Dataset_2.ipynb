{
 "cells": [
  {
   "cell_type": "code",
   "execution_count": 1,
   "metadata": {
    "collapsed": true
   },
   "outputs": [],
   "source": [
    "import numpy as np\n",
    "import matplotlib.pyplot as plt\n",
    "import tensorflow as tf"
   ]
  },
  {
   "cell_type": "code",
   "execution_count": 2,
   "metadata": {
    "collapsed": true
   },
   "outputs": [],
   "source": [
    "DATA_FILE = '../data/birth_life_2010.txt'"
   ]
  },
  {
   "cell_type": "code",
   "execution_count": 3,
   "metadata": {
    "collapsed": true
   },
   "outputs": [],
   "source": [
    "batch_size = 10\n",
    "n_epoch = 100"
   ]
  },
  {
   "cell_type": "code",
   "execution_count": 4,
   "metadata": {
    "collapsed": true
   },
   "outputs": [],
   "source": [
    "def read_birth_life_data(filename):\n",
    "    \"\"\"\n",
    "    Read in birth_life_2010.txt and return:\n",
    "    data in the form of NumPy array\n",
    "    n_samples: number of samples\n",
    "    \"\"\"\n",
    "    text = open(filename, 'r').readlines()[1:]\n",
    "    data = [line[:-1].split('\\t') for line in text]\n",
    "    births = [float(line[1]) for line in data]\n",
    "    lifes = [float(line[2]) for line in data]\n",
    "    data = list(zip(births, lifes))\n",
    "    n_samples = len(data)\n",
    "    data = np.asarray(data, dtype=np.float32)\n",
    "    return data, n_samples"
   ]
  },
  {
   "cell_type": "code",
   "execution_count": 5,
   "metadata": {
    "collapsed": true
   },
   "outputs": [],
   "source": [
    "# Step 1: read in data from the .txt file\n",
    "data, n_samples = read_birth_life_data(DATA_FILE)"
   ]
  },
  {
   "cell_type": "code",
   "execution_count": 6,
   "metadata": {
    "collapsed": false
   },
   "outputs": [],
   "source": [
    "dataset = tf.data.Dataset.from_tensor_slices((data[:,0], data[:,1]))"
   ]
  },
  {
   "cell_type": "code",
   "execution_count": 7,
   "metadata": {
    "collapsed": true
   },
   "outputs": [],
   "source": [
    "dataset = dataset.shuffle(1000).repeat().batch(10)"
   ]
  },
  {
   "cell_type": "code",
   "execution_count": 8,
   "metadata": {
    "collapsed": true
   },
   "outputs": [],
   "source": [
    "iterator = dataset.make_initializable_iterator()"
   ]
  },
  {
   "cell_type": "code",
   "execution_count": 9,
   "metadata": {
    "collapsed": true
   },
   "outputs": [],
   "source": [
    "X, Y = iterator.get_next()"
   ]
  },
  {
   "cell_type": "code",
   "execution_count": 10,
   "metadata": {
    "collapsed": true
   },
   "outputs": [],
   "source": [
    "# Step 3: create weight and bias, initialized to 0\n",
    "w = tf.get_variable('weights', initializer=tf.constant(0.0))\n",
    "b = tf.get_variable('bias', initializer=tf.constant(0.0))"
   ]
  },
  {
   "cell_type": "code",
   "execution_count": 11,
   "metadata": {
    "collapsed": true
   },
   "outputs": [],
   "source": [
    "# Step 4: build model to predict Y\n",
    "hypothesis = w * X + b "
   ]
  },
  {
   "cell_type": "code",
   "execution_count": 12,
   "metadata": {
    "collapsed": false
   },
   "outputs": [],
   "source": [
    "# Step 5: use the squared error as the loss function\n",
    "# you can use either mean squared error or Huber loss\n",
    "loss = tf.reduce_mean(tf.square(Y - hypothesis), name='loss')"
   ]
  },
  {
   "cell_type": "code",
   "execution_count": 13,
   "metadata": {
    "collapsed": true
   },
   "outputs": [],
   "source": [
    "# Step 6: using gradient descent with learning rate of 0.001 to minimize loss\n",
    "optimizer = tf.train.GradientDescentOptimizer(learning_rate=0.01).minimize(loss)"
   ]
  },
  {
   "cell_type": "code",
   "execution_count": 14,
   "metadata": {
    "collapsed": false
   },
   "outputs": [
    {
     "name": "stdout",
     "output_type": "stream",
     "text": [
      "Epoch 18: 1752.4800141987048\n",
      "Epoch 18: 1093.6700696443256\n",
      "Epoch 18: 981.539953934519\n",
      "Epoch 18: 848.9993157637747\n",
      "Epoch 18: 716.887292159231\n",
      "Epoch 18: 596.9433489347759\n",
      "Epoch 18: 574.0043527703536\n",
      "Epoch 18: 484.4585523103413\n",
      "Epoch 18: 418.5401948627673\n",
      "Epoch 18: 376.04353452983656\n",
      "Epoch 18: 344.3469655890214\n",
      "Epoch 18: 287.2019725598787\n",
      "Epoch 18: 279.77593191046464\n",
      "Epoch 18: 260.89439392089844\n",
      "Epoch 18: 192.53765788831208\n",
      "Epoch 18: 196.09236907958984\n",
      "Epoch 18: 147.61972166362563\n",
      "Epoch 18: 151.3646529348273\n",
      "Epoch 18: 129.19412512528268\n",
      "Epoch 18: 119.43986290379574\n",
      "Epoch 18: 103.92316276148746\n",
      "Epoch 18: 93.30945687544973\n",
      "Epoch 18: 92.07610622205232\n",
      "Epoch 18: 77.45558126349198\n",
      "Epoch 18: 70.18292437101665\n",
      "Epoch 18: 64.52248563264546\n",
      "Epoch 18: 59.71243767989309\n",
      "Epoch 18: 68.68876647949219\n",
      "Epoch 18: 61.07839072378058\n",
      "Epoch 18: 54.262609582198294\n",
      "Epoch 18: 46.69552376395777\n",
      "Epoch 18: 48.68582514712685\n",
      "Epoch 18: 48.09214933294999\n",
      "Epoch 18: 40.79550502174779\n",
      "Epoch 18: 37.72385496842234\n",
      "Epoch 18: 37.98515154186048\n",
      "Epoch 18: 40.812755283556484\n",
      "Epoch 18: 33.27968052813881\n",
      "Epoch 18: 35.957416233263515\n",
      "Epoch 18: 33.02578434191252\n",
      "Epoch 18: 33.88923159398531\n",
      "Epoch 18: 29.67443481244539\n",
      "Epoch 18: 35.48441640954269\n",
      "Epoch 18: 31.291410847714072\n",
      "Epoch 18: 34.64802385631361\n",
      "Epoch 18: 38.78027569620233\n",
      "Epoch 18: 32.77512535295988\n",
      "Epoch 18: 27.5740216907702\n",
      "Epoch 18: 33.45599330099005\n",
      "Epoch 18: 30.674803934599225\n",
      "Epoch 18: 30.88274652079532\n",
      "Epoch 18: 30.769762691698578\n",
      "Epoch 18: 30.473637681258353\n",
      "Epoch 18: 34.33423755043432\n",
      "Epoch 18: 29.869694759971217\n",
      "Epoch 18: 35.1304487931101\n",
      "Epoch 18: 28.356087734824733\n",
      "Epoch 18: 29.884384155273438\n",
      "Epoch 18: 32.0883462805497\n",
      "Epoch 18: 31.180227179276315\n",
      "Epoch 18: 34.89269188830727\n",
      "Epoch 18: 25.879264781349583\n",
      "Epoch 18: 29.37313817676745\n",
      "Epoch 18: 31.00391387939453\n",
      "Epoch 18: 27.751866491217363\n",
      "Epoch 18: 41.277697914525085\n",
      "Epoch 18: 24.647130991283216\n",
      "Epoch 18: 23.375675853930023\n",
      "Epoch 18: 23.379923619722064\n",
      "Epoch 18: 30.904584081549395\n",
      "Epoch 18: 28.966747585095856\n",
      "Epoch 18: 25.386441431547468\n",
      "Epoch 18: 29.58169876901727\n",
      "Epoch 18: 27.914600773861533\n",
      "Epoch 18: 31.624280277051422\n",
      "Epoch 18: 31.792306799637643\n",
      "Epoch 18: 38.58542788656134\n",
      "Epoch 18: 23.192842383133737\n",
      "Epoch 18: 27.278647121630218\n",
      "Epoch 18: 29.391540326570208\n",
      "Epoch 18: 30.165179453398054\n",
      "Epoch 18: 36.90270162883558\n",
      "Epoch 18: 35.57116383000424\n",
      "Epoch 18: 31.901500275260524\n",
      "Epoch 18: 36.326352520992884\n",
      "Epoch 18: 27.132620761269017\n",
      "Epoch 18: 25.910159562763415\n",
      "Epoch 18: 27.560613933362458\n",
      "Epoch 18: 26.169147541648464\n",
      "Epoch 18: 38.325318236100046\n",
      "Epoch 18: 36.19732482809769\n",
      "Epoch 18: 32.38063872487921\n",
      "Epoch 18: 31.2447207099513\n",
      "Epoch 18: 38.10101880525288\n",
      "Epoch 18: 31.409340055365313\n",
      "Epoch 18: 28.200299137517025\n",
      "Epoch 18: 31.12898655941612\n",
      "Epoch 18: 28.268174773768376\n",
      "Epoch 18: 26.532089133011667\n",
      "Epoch 18: 26.43319421065481\n"
     ]
    }
   ],
   "source": [
    "writer = tf.summary.FileWriter('./graphs/linear_reg_dataset_2', tf.get_default_graph())\n",
    "with tf.Session() as sess:\n",
    "    # Step 7: initialize the necessary variables, in this case, w and b\n",
    "    sess.run(tf.global_variables_initializer())\n",
    "    \n",
    "    total_batch = int(n_samples/batch_size)\n",
    "    \n",
    "    # Step 8: train the model for 100 epochs\n",
    "    for i in range(n_epoch): \n",
    "        total_loss = 0\n",
    "        for i in range(total_batch):\n",
    "            sess.run(iterator.initializer)\n",
    "            # Session execute optimizer and fetch values of loss\n",
    "            #_, l = sess.run([optimizer, loss], feed_dict={X: x_data, Y:y_data}) \n",
    "            _, l = sess.run([optimizer, loss]) \n",
    "            total_loss += l\n",
    "        print('Epoch {0}: {1}'.format(i, total_loss/total_batch))\n",
    "\n",
    "    # close the writer when you're done using it\n",
    "    writer.close() \n",
    "    \n",
    "    # Step 9: output the values of w and b\n",
    "    w_out, b_out = sess.run([w, b]) "
   ]
  },
  {
   "cell_type": "code",
   "execution_count": 15,
   "metadata": {
    "collapsed": false
   },
   "outputs": [
    {
     "data": {
      "image/png": "[encoded data removed]",
      "text/plain": [
       "<matplotlib.figure.Figure at 0x1eb2d2db390>"
      ]
     },
     "metadata": {},
     "output_type": "display_data"
    }
   ],
   "source": [
    "# plot the results\n",
    "plt.plot(data[:,0], data[:,1], 'bo', label='Real data')\n",
    "plt.plot(data[:,0], data[:,0] * w_out + b_out, 'r', label='Predicted data')\n",
    "plt.legend()\n",
    "plt.show()"
   ]
  },
  {
   "cell_type": "code",
   "execution_count": null,
   "metadata": {
    "collapsed": true
   },
   "outputs": [],
   "source": []
  }
 ],
 "metadata": {
  "kernelspec": {
   "display_name": "Python 3",
   "language": "python",
   "name": "python3"
  },
  "language_info": {
   "codemirror_mode": {
    "name": "ipython",
    "version": 3
   },
   "file_extension": ".py",
   "mimetype": "text/x-python",
   "name": "python",
   "nbconvert_exporter": "python",
   "pygments_lexer": "ipython3",
   "version": "3.5.2"
  }
 },
 "nbformat": 4,
 "nbformat_minor": 2
}
