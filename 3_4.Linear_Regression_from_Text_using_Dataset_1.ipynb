{
 "cells": [
  {
   "cell_type": "code",
   "execution_count": 1,
   "metadata": {
    "collapsed": true
   },
   "outputs": [],
   "source": [
    "import numpy as np\n",
    "import matplotlib.pyplot as plt\n",
    "import tensorflow as tf"
   ]
  },
  {
   "cell_type": "code",
   "execution_count": 2,
   "metadata": {
    "collapsed": true
   },
   "outputs": [],
   "source": [
    "DATA_FILE = '../data/birth_life_2010.txt'"
   ]
  },
  {
   "cell_type": "code",
   "execution_count": 3,
   "metadata": {
    "collapsed": true
   },
   "outputs": [],
   "source": [
    "batch_size = 10\n",
    "n_epoch = 100"
   ]
  },
  {
   "cell_type": "code",
   "execution_count": 4,
   "metadata": {
    "collapsed": true
   },
   "outputs": [],
   "source": [
    "def read_birth_life_data(filename):\n",
    "    \"\"\"\n",
    "    Read in birth_life_2010.txt and return:\n",
    "    data in the form of NumPy array\n",
    "    n_samples: number of samples\n",
    "    \"\"\"\n",
    "    text = open(filename, 'r').readlines()[1:]\n",
    "    data = [line[:-1].split('\\t') for line in text]\n",
    "    births = [float(line[1]) for line in data]\n",
    "    lifes = [float(line[2]) for line in data]\n",
    "    data = list(zip(births, lifes))\n",
    "    n_samples = len(data)\n",
    "    data = np.asarray(data, dtype=np.float32)\n",
    "    return data, n_samples"
   ]
  },
  {
   "cell_type": "code",
   "execution_count": 5,
   "metadata": {
    "collapsed": true
   },
   "outputs": [],
   "source": [
    "# Step 1: read in data from the .txt file\n",
    "data, n_samples = read_birth_life_data(DATA_FILE)"
   ]
  },
  {
   "cell_type": "code",
   "execution_count": 6,
   "metadata": {
    "collapsed": false
   },
   "outputs": [],
   "source": [
    "dataset = tf.data.Dataset.from_tensor_slices((data[:,0], data[:,1]))"
   ]
  },
  {
   "cell_type": "code",
   "execution_count": 7,
   "metadata": {
    "collapsed": true
   },
   "outputs": [],
   "source": [
    "dataset = dataset.shuffle(1000).repeat().batch(10)"
   ]
  },
  {
   "cell_type": "code",
   "execution_count": 8,
   "metadata": {
    "collapsed": true
   },
   "outputs": [],
   "source": [
    "X, Y = dataset.make_one_shot_iterator().get_next()"
   ]
  },
  {
   "cell_type": "code",
   "execution_count": 9,
   "metadata": {
    "collapsed": true
   },
   "outputs": [],
   "source": [
    "# Step 3: create weight and bias, initialized to 0\n",
    "w = tf.get_variable('weights', initializer=tf.constant(0.0))\n",
    "b = tf.get_variable('bias', initializer=tf.constant(0.0))"
   ]
  },
  {
   "cell_type": "code",
   "execution_count": 10,
   "metadata": {
    "collapsed": true
   },
   "outputs": [],
   "source": [
    "# Step 4: build model to predict Y\n",
    "hypothesis = w * X + b "
   ]
  },
  {
   "cell_type": "code",
   "execution_count": 11,
   "metadata": {
    "collapsed": false
   },
   "outputs": [],
   "source": [
    "# Step 5: use the squared error as the loss function\n",
    "# you can use either mean squared error or Huber loss\n",
    "loss = tf.reduce_mean(tf.square(Y - hypothesis), name='loss')"
   ]
  },
  {
   "cell_type": "code",
   "execution_count": 12,
   "metadata": {
    "collapsed": true
   },
   "outputs": [],
   "source": [
    "# Step 6: using gradient descent with learning rate of 0.001 to minimize loss\n",
    "optimizer = tf.train.GradientDescentOptimizer(learning_rate=0.01).minimize(loss)"
   ]
  },
  {
   "cell_type": "code",
   "execution_count": 15,
   "metadata": {
    "collapsed": false
   },
   "outputs": [
    {
     "name": "stdout",
     "output_type": "stream",
     "text": [
      "Epoch 0: 1716.9947124280427\n",
      "Epoch 1: 1128.474201403166\n",
      "Epoch 2: 986.3588642321134\n",
      "Epoch 3: 850.4404120194284\n",
      "Epoch 4: 743.3644666169819\n",
      "Epoch 5: 659.2314597681949\n",
      "Epoch 6: 565.8328182822779\n",
      "Epoch 7: 499.1652028937089\n",
      "Epoch 8: 432.52640573601974\n",
      "Epoch 9: 373.20952325118213\n",
      "Epoch 10: 333.88165283203125\n",
      "Epoch 11: 291.0982360839844\n",
      "Epoch 12: 257.3748044465718\n",
      "Epoch 13: 227.2499855443051\n",
      "Epoch 14: 201.45311335513466\n",
      "Epoch 15: 179.3404002942537\n",
      "Epoch 16: 158.93802682976974\n",
      "Epoch 17: 141.4131212736431\n",
      "Epoch 18: 127.6948272303531\n",
      "Epoch 19: 113.7375572606137\n",
      "Epoch 20: 102.6696444059673\n",
      "Epoch 21: 95.39081372712788\n",
      "Epoch 22: 85.12134592156661\n",
      "Epoch 23: 78.4971042432283\n",
      "Epoch 24: 71.69119985480057\n",
      "Epoch 25: 66.26685674566971\n",
      "Epoch 26: 60.413225776270814\n",
      "Epoch 27: 57.71287877936112\n",
      "Epoch 28: 54.43870684975072\n",
      "Epoch 29: 50.465915629738255\n",
      "Epoch 30: 48.01580740276136\n",
      "Epoch 31: 46.3398235722592\n",
      "Epoch 32: 43.7047398215846\n",
      "Epoch 33: 42.51297960783306\n",
      "Epoch 34: 39.27475813815468\n",
      "Epoch 35: 39.63381837543688\n",
      "Epoch 36: 38.48854215521561\n",
      "Epoch 37: 37.01187194021124\n",
      "Epoch 38: 35.95462226867676\n",
      "Epoch 39: 36.49534235502544\n",
      "Epoch 40: 34.86277921576249\n",
      "Epoch 41: 34.31892284594084\n",
      "Epoch 42: 33.68825982746325\n",
      "Epoch 43: 33.17705410405209\n",
      "Epoch 44: 33.30310106277466\n",
      "Epoch 45: 32.614446790594805\n",
      "Epoch 46: 33.098165913632045\n",
      "Epoch 47: 32.36327304338154\n",
      "Epoch 48: 32.10286958594071\n",
      "Epoch 49: 32.45356449327971\n",
      "Epoch 50: 31.83164812389173\n",
      "Epoch 51: 31.487423269372236\n",
      "Epoch 52: 31.167778266103642\n",
      "Epoch 53: 31.49747509705393\n",
      "Epoch 54: 31.74860838839882\n",
      "Epoch 55: 31.472100860194157\n",
      "Epoch 56: 31.326674210397822\n",
      "Epoch 57: 30.87896492606715\n",
      "Epoch 58: 30.94729112323962\n",
      "Epoch 59: 30.957426071166992\n",
      "Epoch 60: 31.05029828924882\n",
      "Epoch 61: 30.924309078015778\n",
      "Epoch 62: 30.845796534889622\n",
      "Epoch 63: 31.294793906964752\n",
      "Epoch 64: 30.882709553367214\n",
      "Epoch 65: 30.822705469633405\n",
      "Epoch 66: 30.923473257767526\n",
      "Epoch 67: 30.66090955232319\n",
      "Epoch 68: 30.483492299130088\n",
      "Epoch 69: 31.3897637818989\n",
      "Epoch 70: 30.884512148405378\n",
      "Epoch 71: 30.946240625883405\n",
      "Epoch 72: 31.02135427374589\n",
      "Epoch 73: 30.760980330015485\n",
      "Epoch 74: 30.60399211080451\n",
      "Epoch 75: 31.004487489399157\n",
      "Epoch 76: 30.508889323786686\n",
      "Epoch 77: 30.45659948650159\n",
      "Epoch 78: 30.755680285002057\n",
      "Epoch 79: 31.233931089702406\n",
      "Epoch 80: 31.069936852706107\n",
      "Epoch 81: 30.878248189624987\n",
      "Epoch 82: 30.76452004282098\n",
      "Epoch 83: 30.700164594148333\n",
      "Epoch 84: 30.46427664003874\n",
      "Epoch 85: 30.904363757685612\n",
      "Epoch 86: 30.99002883308812\n",
      "Epoch 87: 31.273445832101924\n",
      "Epoch 88: 30.74434350666247\n",
      "Epoch 89: 30.443659079702275\n",
      "Epoch 90: 30.680561366834137\n",
      "Epoch 91: 30.440826516402396\n",
      "Epoch 92: 30.372013593974867\n",
      "Epoch 93: 30.829632809287624\n",
      "Epoch 94: 30.782274170925742\n",
      "Epoch 95: 30.682530679200823\n",
      "Epoch 96: 30.790138345015677\n",
      "Epoch 97: 30.790747793097246\n",
      "Epoch 98: 30.990505168312474\n",
      "Epoch 99: 30.669628695437783\n"
     ]
    }
   ],
   "source": [
    "writer = tf.summary.FileWriter('./graphs/linear_reg_dataset_1', tf.get_default_graph())\n",
    "with tf.Session() as sess:\n",
    "    # Step 7: initialize the necessary variables, in this case, w and b\n",
    "    sess.run(tf.global_variables_initializer())\n",
    "    \n",
    "    total_batch = int(n_samples/batch_size)\n",
    "    \n",
    "    # Step 8: train the model for 100 epochs\n",
    "    for i in range(n_epoch): \n",
    "        total_loss = 0\n",
    "        for j in range(total_batch):\n",
    "            # Session execute optimizer and fetch values of loss\n",
    "            #_, l = sess.run([optimizer, loss], feed_dict={X: x_data, Y:y_data}) \n",
    "            _, l = sess.run([optimizer, loss]) \n",
    "            total_loss += l\n",
    "        print('Epoch {0}: {1}'.format(i, total_loss/total_batch))\n",
    "\n",
    "    # close the writer when you're done using it\n",
    "    writer.close() \n",
    "    \n",
    "    # Step 9: output the values of w and b\n",
    "    w_out, b_out = sess.run([w, b]) "
   ]
  },
  {
   "cell_type": "code",
   "execution_count": 16,
   "metadata": {
    "collapsed": false
   },
   "outputs": [
    {
     "data": {
      "image/png": "[encoded data removed]",
      "text/plain": [
       "<matplotlib.figure.Figure at 0x2507901e7f0>"
      ]
     },
     "metadata": {},
     "output_type": "display_data"
    }
   ],
   "source": [
    "# plot the results\n",
    "plt.plot(data[:,0], data[:,1], 'bo', label='Real data')\n",
    "plt.plot(data[:,0], data[:,0] * w_out + b_out, 'r', label='Predicted data')\n",
    "plt.legend()\n",
    "plt.show()"
   ]
  },
  {
   "cell_type": "code",
   "execution_count": null,
   "metadata": {
    "collapsed": true
   },
   "outputs": [],
   "source": []
  }
 ],
 "metadata": {
  "kernelspec": {
   "display_name": "Python 3",
   "language": "python",
   "name": "python3"
  },
  "language_info": {
   "codemirror_mode": {
    "name": "ipython",
    "version": 3
   },
   "file_extension": ".py",
   "mimetype": "text/x-python",
   "name": "python",
   "nbconvert_exporter": "python",
   "pygments_lexer": "ipython3",
   "version": "3.5.2"
  }
 },
 "nbformat": 4,
 "nbformat_minor": 2
}
