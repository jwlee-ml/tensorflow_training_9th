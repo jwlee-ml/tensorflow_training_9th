{
 "cells": [
  {
   "cell_type": "code",
   "execution_count": null,
   "metadata": {
    "collapsed": true
   },
   "outputs": [],
   "source": [
    "#!nvidia-smi"
   ]
  },
  {
   "cell_type": "code",
   "execution_count": null,
   "metadata": {
    "collapsed": true
   },
   "outputs": [],
   "source": [
    "#%env CUDA_DEVICE_ORDER=PCI_BUS_ID\n",
    "#%env CUDA_VISIBLE_DEVICES=0"
   ]
  },
  {
   "cell_type": "code",
   "execution_count": null,
   "metadata": {
    "collapsed": true
   },
   "outputs": [],
   "source": [
    "import os\n",
    "import numpy as np\n",
    "from scipy.misc import imread, imresize\n",
    "import tensorflow as tf\n",
    "from tensorflow.examples.tutorials.mnist import input_data\n",
    "import matplotlib.pyplot as plt\n",
    "import random"
   ]
  },
  {
   "cell_type": "code",
   "execution_count": null,
   "metadata": {
    "collapsed": false
   },
   "outputs": [],
   "source": [
    "mnist = input_data.read_data_sets(\"./data/\", one_hot=True)\n",
    "# Check out https://www.tensorflow.org/get_started/mnist/beginners for\n",
    "# more information about the mnist dataset"
   ]
  },
  {
   "cell_type": "code",
   "execution_count": null,
   "metadata": {
    "collapsed": true
   },
   "outputs": [],
   "source": [
    "# hyper parameters\n",
    "learning_rate = 0.001\n",
    "training_epochs = 70\n",
    "batch_size = 64\n",
    "n_class = 10\n",
    "n_train = 11409\n",
    "n_test = 2853\n",
    "seed = 777\n",
    "tf.set_random_seed(seed)\n",
    "num_epochs_per_decay = 10\n",
    "cur_dir = os.getcwd()"
   ]
  },
  {
   "cell_type": "code",
   "execution_count": null,
   "metadata": {
    "collapsed": true
   },
   "outputs": [],
   "source": [
    "X = tf.placeholder(tf.float32, [None, 784], name=\"X\")\n",
    "Y = tf.placeholder(tf.float32, [None, n_class], name = \"Y\")\n",
    "is_train = tf.placeholder(tf.bool, name=\"is_train\")"
   ]
  },
  {
   "cell_type": "code",
   "execution_count": null,
   "metadata": {
    "collapsed": true
   },
   "outputs": [],
   "source": [
    "def preproc(x):\n",
    "    # x = x*2 - 1.0\n",
    "    # per-example mean subtraction (http://ufldl.stanford.edu/wiki/index.php/Data_Preprocessing)\n",
    "    mean = tf.reduce_mean(x, axis=1, keep_dims=True)\n",
    "    return x - mean"
   ]
  },
  {
   "cell_type": "code",
   "execution_count": null,
   "metadata": {
    "collapsed": true
   },
   "outputs": [],
   "source": [
    "def conv_bn_activ_dropout(x, n_filters, kernel_size, strides, dropout_rate, training, seed, \n",
    "                          padding='SAME', activ_fn=tf.nn.relu, name=\"conv_bn_act_dr\"):\n",
    "    #with tf.variable_scope(name):\n",
    "    net = tf.layers.conv2d(x, n_filters, kernel_size, strides=strides, padding=padding, use_bias=False, \n",
    "                           kernel_initializer=tf.contrib.layers.xavier_initializer(seed=seed))\n",
    "    net = tf.layers.batch_normalization(net, training=training)\n",
    "    net = activ_fn(net)\n",
    "    if dropout_rate > 0.0:            \n",
    "        net = tf.layers.dropout(net, rate=dropout_rate, training=training, seed=seed)\n",
    "    return net"
   ]
  },
  {
   "cell_type": "code",
   "execution_count": null,
   "metadata": {
    "collapsed": true
   },
   "outputs": [],
   "source": [
    "def conv_bn_activ(x, n_filters, kernel_size, strides=1, training=is_train, seed=seed, \n",
    "                  padding='SAME', activ_fn=tf.nn.relu, name=\"conv_bn_act\"):\n",
    "    return conv_bn_activ_dropout(x, n_filters, kernel_size, strides, 0.0, training, seed, \n",
    "                                 padding=padding, activ_fn=activ_fn, name=name)"
   ]
  },
  {
   "cell_type": "code",
   "execution_count": null,
   "metadata": {
    "collapsed": true
   },
   "outputs": [],
   "source": [
    "def stem(x, name=\"stem\"):\n",
    "    with tf.variable_scope(name):\n",
    "        b1 = conv_bn_activ(x, 32, [1, 1])\n",
    "        b1 = conv_bn_activ(b1, 48, [3, 3])\n",
    "        b2 = conv_bn_activ(x, 32, [1, 1])\n",
    "        b2 = conv_bn_activ(x, 32, [1, 7])\n",
    "        b2 = conv_bn_activ(b2, 32, [7, 1])\n",
    "        b2 = conv_bn_activ(b2, 48, [3, 3])\n",
    "        net = tf.concat([b1, b2], axis=-1)\n",
    "        print(net)\n",
    "        return net"
   ]
  },
  {
   "cell_type": "code",
   "execution_count": null,
   "metadata": {
    "collapsed": true
   },
   "outputs": [],
   "source": [
    "def inception_A(x, name=\"inception_A\"):\n",
    "    # num of channels : 24 x 4 = 96\n",
    "    with tf.variable_scope(name):\n",
    "        b1 = tf.layers.average_pooling2d(x, [3, 3], 1, padding='SAME')\n",
    "        b1 = conv_bn_activ(b1, 24, [1, 1])\n",
    "        b2 = conv_bn_activ(x, 24, [1, 1])\n",
    "        b3 = conv_bn_activ(x, 16, [1, 1])\n",
    "        b3 = conv_bn_activ(b3, 24, [3, 3])\n",
    "        b4 = conv_bn_activ(x, 16, [1, 1])\n",
    "        b4 = conv_bn_activ(b4, 24, [3, 3])\n",
    "        b4 = conv_bn_activ(b4, 24, [3, 3])\n",
    "        net = tf.concat([b1, b2, b3, b4], axis=-1)\n",
    "        print(net)\n",
    "        return net"
   ]
  },
  {
   "cell_type": "code",
   "execution_count": null,
   "metadata": {
    "collapsed": false
   },
   "outputs": [],
   "source": [
    "def inception_B(x, name=\"inception_B\"):\n",
    "    # num of channels : 32 + 96 + 64 + 64 = 256\n",
    "    with tf.variable_scope(name):\n",
    "        b1 = tf.layers.average_pooling2d(x, [3, 3], 1, padding='SAME')\n",
    "        b1 = conv_bn_activ(b1, 32, [1, 1])\n",
    "        b2 = conv_bn_activ(x, 96, [1, 1])\n",
    "        b3 = conv_bn_activ(x, 48, [1, 1])\n",
    "        b3 = conv_bn_activ(b3, 56, [1, 7])\n",
    "        b3 = conv_bn_activ(b3, 64, [7, 1])\n",
    "        b4 = conv_bn_activ(x, 48, [1, 1])\n",
    "        b4 = conv_bn_activ(b4, 48, [1, 7])\n",
    "        b4 = conv_bn_activ(b4, 56, [7, 1])\n",
    "        b4 = conv_bn_activ(b4, 56, [1, 7])\n",
    "        b4 = conv_bn_activ(b4, 64, [7, 1])\n",
    "        net = tf.concat([b1, b2, b3, b4], axis=-1)\n",
    "        print(net)\n",
    "        return net"
   ]
  },
  {
   "cell_type": "code",
   "execution_count": null,
   "metadata": {
    "collapsed": true
   },
   "outputs": [],
   "source": [
    "def inception_C(x, name=\"inception_C\"):\n",
    "    # num of channels : 64 * 6 = 384\n",
    "    with tf.variable_scope(name):\n",
    "        b1 = tf.layers.average_pooling2d(x, [3, 3], 1, padding='SAME')\n",
    "        b1 = conv_bn_activ(b1, 64, [1, 1])\n",
    "        b2 = conv_bn_activ(x, 64, [1, 1])\n",
    "        b3 = conv_bn_activ(x, 96, [1, 1])\n",
    "        b3_1 = conv_bn_activ(b3, 64, [1, 3])\n",
    "        b3_2 = conv_bn_activ(b3, 64, [3, 1])\n",
    "        b4 = conv_bn_activ(x, 96, [1, 1])\n",
    "        b4 = conv_bn_activ(b4, 112, [1, 3])\n",
    "        b4 = conv_bn_activ(b4, 128, [3, 1])\n",
    "        b4_1 = conv_bn_activ(b4, 64, [3, 1])\n",
    "        b4_2 = conv_bn_activ(b4, 64, [1, 3])\n",
    "        net = tf.concat([b1, b2, b3_1, b3_2, b4_1, b4_2], axis=-1)\n",
    "        print(net)\n",
    "        return net"
   ]
  },
  {
   "cell_type": "code",
   "execution_count": null,
   "metadata": {
    "collapsed": true
   },
   "outputs": [],
   "source": [
    "def reduction_A(x, name=\"reduction_A\"):\n",
    "    # num of channels : 96 + 64 + 96 = 256\n",
    "    with tf.variable_scope(name):\n",
    "        b1 = tf.layers.max_pooling2d(x, [3, 3], 2, padding='SAME')\n",
    "        b2 = conv_bn_activ(x, 96, [3, 3], strides=2)\n",
    "        b3 = conv_bn_activ(x, 48, [1, 1])\n",
    "        b3 = conv_bn_activ(b3, 56, [3, 3])\n",
    "        b3 = conv_bn_activ(b3, 64, [3, 3], strides=2)\n",
    "        net = tf.concat([b1, b2, b3], axis=-1)\n",
    "        print(net)\n",
    "        return net"
   ]
  },
  {
   "cell_type": "code",
   "execution_count": null,
   "metadata": {
    "collapsed": true
   },
   "outputs": [],
   "source": [
    "def reduction_B(x, name=\"reduction_B\"):\n",
    "    # num of channes : 256 + 48 + 80 = 384\n",
    "    with tf.variable_scope(name):\n",
    "        b1 = tf.layers.max_pooling2d(x, [3, 3], 2, padding='SAME')\n",
    "        b2 = conv_bn_activ(x, 48, [1, 1])\n",
    "        b2 = conv_bn_activ(b2, 48, [3, 3], strides=2)\n",
    "        b3 = conv_bn_activ(x, 64, [1, 1])\n",
    "        b3 = conv_bn_activ(b3, 64, [1, 7])\n",
    "        b3 = conv_bn_activ(b3, 80, [7, 1])\n",
    "        b3 = conv_bn_activ(b3, 80, [3, 3], strides=2)\n",
    "        net = tf.concat([b1, b2, b3], axis=-1)\n",
    "        print(net)\n",
    "        return net"
   ]
  },
  {
   "cell_type": "code",
   "execution_count": null,
   "metadata": {
    "collapsed": true
   },
   "outputs": [],
   "source": [
    "def build_inception_slim(X_img):\n",
    "    net = X_img\n",
    "    with tf.variable_scope(\"stem\"):\n",
    "        net = stem(net)\n",
    "    with tf.variable_scope(\"inception-A\"):\n",
    "        for i in range(2):\n",
    "            net = inception_A(net, name=\"inception_block_a{}\".format(i))\n",
    "    with tf.variable_scope(\"reduction-A\"):\n",
    "        net = reduction_A(net)\n",
    "    with tf.variable_scope(\"inception-B\"):\n",
    "        for i in range(3):\n",
    "            net = inception_B(net, name=\"inception_block_b{}\".format(i))\n",
    "    with tf.variable_scope(\"reduction-B\"):\n",
    "        net = reduction_B(net)\n",
    "    with tf.variable_scope(\"inception-C\"):\n",
    "        for i in range(1):\n",
    "            net = inception_C(net, name=\"inception_block_c{}\".format(i))\n",
    "    with tf.variable_scope(\"fc\"):\n",
    "        net = tf.layers.average_pooling2d(name=\"gap\", inputs=net, pool_size=[7, 7], \n",
    "                                          strides=7, padding='SAME')\n",
    "        print(net)\n",
    "        net = tf.reshape(net, [-1, 384])\n",
    "        print(net)\n",
    "        net = tf.layers.dropout(net, rate=0.2, training=is_train, seed=seed)        \n",
    "        logits = tf.layers.dense(net, 10, name=\"logits\", \n",
    "                              kernel_initializer=tf.contrib.layers.variance_scaling_initializer(seed=seed))\n",
    "        print(logits)\n",
    "    return logits"
   ]
  },
  {
   "cell_type": "code",
   "execution_count": null,
   "metadata": {
    "collapsed": true
   },
   "outputs": [],
   "source": [
    "X_pre = preproc(X)\n",
    "X_img = tf.reshape(X_pre, [-1, 28, 28, 1], name=\"X_img\")"
   ]
  },
  {
   "cell_type": "code",
   "execution_count": null,
   "metadata": {
    "collapsed": false,
    "scrolled": false
   },
   "outputs": [],
   "source": [
    "logits = build_inception_slim(X_img)"
   ]
  },
  {
   "cell_type": "code",
   "execution_count": null,
   "metadata": {
    "collapsed": false
   },
   "outputs": [],
   "source": [
    "loss = tf.reduce_mean(tf.nn.softmax_cross_entropy_with_logits_v2(logits=logits, labels=Y), name=\"loss\")\n",
    "n_batches_per_epoch = int(mnist.train.num_examples / batch_size)\n",
    "print(n_batches_per_epoch)\n",
    "decay_steps = int(n_batches_per_epoch * num_epochs_per_decay)\n",
    "global_step = tf.Variable(0, trainable=False)\n",
    "learningRate = tf.train.exponential_decay(learning_rate=learning_rate,\n",
    "                                          global_step= global_step,\n",
    "                                          decay_steps=decay_steps,\n",
    "                                          decay_rate= 0.1,\n",
    "                                          staircase=True)\n",
    "#learningRate = tf.train.exponential_decay(learning_rate=learning_rate,\n",
    "#                                          global_step= global_step,\n",
    "#                                          decay_steps=5000,\n",
    "#                                          decay_rate= 0.1,\n",
    "#                                          staircase=True)\n",
    "update_ops = tf.get_collection(tf.GraphKeys.UPDATE_OPS)\n",
    "with tf.control_dependencies(update_ops):\n",
    "    optimizer = tf.train.AdamOptimizer(learning_rate=learningRate).minimize(\n",
    "        loss, global_step=global_step, name=\"optimizer\") "
   ]
  },
  {
   "cell_type": "code",
   "execution_count": null,
   "metadata": {
    "collapsed": true
   },
   "outputs": [],
   "source": [
    "pred = tf.argmax(logits, axis=1, name=\"prediction\")\n",
    "prob = tf.nn.softmax(logits, name=\"softmax\")\n",
    "accuracy = tf.reduce_mean(tf.cast(tf.equal(pred, tf.argmax(Y, axis=1)), tf.float32), name=\"accuracy\")"
   ]
  },
  {
   "cell_type": "code",
   "execution_count": null,
   "metadata": {
    "collapsed": true
   },
   "outputs": [],
   "source": [
    "train_var = [X, Y, is_train, logits, pred, prob, accuracy]\n",
    "tf.add_to_collection('train_var', train_var[0])\n",
    "tf.add_to_collection('train_var', train_var[1])\n",
    "tf.add_to_collection('train_var', train_var[2])\n",
    "tf.add_to_collection('train_var', train_var[3])\n",
    "tf.add_to_collection('train_var', train_var[4])\n",
    "tf.add_to_collection('train_var', train_var[5])\n",
    "tf.add_to_collection('train_var', train_var[6])\n",
    "saver = tf.train.Saver()"
   ]
  },
  {
   "cell_type": "code",
   "execution_count": null,
   "metadata": {
    "collapsed": true
   },
   "outputs": [],
   "source": [
    "savedir = 'checkpoints'\n",
    "if not os.path.exists(savedir):\n",
    "    os.makedirs(savedir)\n",
    "saver.export_meta_graph(os.path.join(cur_dir, savedir, 'mnist_small_incv4.meta'), collection_list=['train_var'])"
   ]
  },
  {
   "cell_type": "code",
   "execution_count": null,
   "metadata": {
    "collapsed": true
   },
   "outputs": [],
   "source": [
    "# initialize\n",
    "sess = tf.Session(config=tf.ConfigProto(gpu_options=tf.GPUOptions(allow_growth =True)))\n",
    "sess.run(tf.global_variables_initializer())"
   ]
  },
  {
   "cell_type": "code",
   "execution_count": null,
   "metadata": {
    "collapsed": false,
    "scrolled": false
   },
   "outputs": [],
   "source": [
    "# train my model\n",
    "print('Learning started. It takes sometime.')\n",
    "max_test_acc = 0.\n",
    "for epoch in range(training_epochs):\n",
    "    avg_cost = 0.\n",
    "    avg_train_acc = 0.\n",
    "    avg_test_acc = 0.\n",
    "    \n",
    "    total_batch = int(n_train / batch_size)\n",
    "    total_batch_test = int(n_test / batch_size)\n",
    "\n",
    "    for i in range(total_batch):\n",
    "        #batch_xs, batch_ys = mnist.train.next_batch(batch_size)\n",
    "        #batch_xs = batch_xs.reshape(-1, time_steps, element_size)\n",
    "        feed_dict = {is_train:True}\n",
    "        acc, c, _ = sess.run([accuracy, loss, optimizer], feed_dict=feed_dict)\n",
    "        avg_cost += c / total_batch\n",
    "        avg_train_acc += acc / total_batch\n",
    "        \n",
    "    for i in range(total_batch_test):\n",
    "        #batch_xs, batch_ys = mnist.test.next_batch(batch_size)        \n",
    "        #batch_xs = batch_xs.reshape(-1, time_steps, element_size)\n",
    "        feed_dict = {X: batch_xs, Y: batch_ys, is_train:False}\n",
    "        acc = sess.run(accuracy, feed_dict=feed_dict)\n",
    "        avg_test_acc += acc / total_batch_test\n",
    "    if avg_test_acc > max_test_acc:\n",
    "        max_test_acc = avg_test_acc\n",
    "        print('saving a graph and weights => accuracy : {}'.format(max_test_acc))\n",
    "        saver.save(sess, os.path.join(cur_dir, savedir, 'mnist_small_incv4.ckpt'))\n",
    "\n",
    "    print('Epoch:', '%04d' % (epoch + 1), 'cost =', '{:.9f}'.format(avg_cost), \n",
    "          'train accuracy = ', '{:.5f}'.format(avg_train_acc), \n",
    "          'test accuracy = ', '{:.5f}'.format(avg_test_acc))\n",
    "\n",
    "\n",
    "print('Learning Finished!')"
   ]
  },
  {
   "cell_type": "code",
   "execution_count": null,
   "metadata": {
    "collapsed": false
   },
   "outputs": [],
   "source": [
    "#saver.save(sess, os.path.join(cur_dir, 'checkpoints', 'mnist_save.ckpt'))"
   ]
  },
  {
   "cell_type": "code",
   "execution_count": null,
   "metadata": {
    "collapsed": false
   },
   "outputs": [],
   "source": [
    "def evaluate(X_sample, y_sample, batch_size=100):\n",
    "    \"\"\"Run a minibatch accuracy op\"\"\"\n",
    "\n",
    "    N = X_sample.shape[0]\n",
    "    correct_sample = 0\n",
    "\n",
    "    for i in range(0, N, batch_size):\n",
    "        X_batch = X_sample[i: i + batch_size]\n",
    "        y_batch = y_sample[i: i + batch_size]\n",
    "        N_batch = X_batch.shape[0]\n",
    "\n",
    "        feed = {\n",
    "            X: X_batch,\n",
    "            Y: y_batch,\n",
    "            is_train: False\n",
    "        }\n",
    "\n",
    "        correct_sample += sess.run(accuracy, feed_dict=feed) * N_batch\n",
    "\n",
    "    return correct_sample / N\n",
    "\n",
    "print(\"\\nAccuracy Evaluates\")\n",
    "print(\"-------------------------------\")\n",
    "print('Train Accuracy:', '{:.5f}'.format(evaluate(mnist.train.images, mnist.train.labels)))\n",
    "print('Test Accuracy:', '{:.5f}'.format(evaluate(mnist.test.images, mnist.test.labels)))"
   ]
  },
  {
   "cell_type": "code",
   "execution_count": null,
   "metadata": {
    "collapsed": true
   },
   "outputs": [],
   "source": []
  }
 ],
 "metadata": {
  "kernelspec": {
   "display_name": "Python 3",
   "language": "python",
   "name": "python3"
  },
  "language_info": {
   "codemirror_mode": {
    "name": "ipython",
    "version": 3
   },
   "file_extension": ".py",
   "mimetype": "text/x-python",
   "name": "python",
   "nbconvert_exporter": "python",
   "pygments_lexer": "ipython3",
   "version": "3.5.2"
  }
 },
 "nbformat": 4,
 "nbformat_minor": 2
}
