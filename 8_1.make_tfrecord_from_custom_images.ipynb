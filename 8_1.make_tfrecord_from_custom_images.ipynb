{
 "cells": [
  {
   "cell_type": "markdown",
   "metadata": {},
   "source": [
    "https://drive.google.com/file/d/1zUUeT9-vFgmyXCJfZALE5FoYQRrAZgHp/view?usp=sharing"
   ]
  },
  {
   "cell_type": "code",
   "execution_count": null,
   "metadata": {
    "collapsed": true
   },
   "outputs": [],
   "source": [
    "import os\n",
    "import numpy as np\n",
    "import tensorflow as tf\n",
    "import matplotlib.pyplot as plt\n",
    "from PIL import Image"
   ]
  },
  {
   "cell_type": "code",
   "execution_count": null,
   "metadata": {
    "collapsed": false
   },
   "outputs": [],
   "source": [
    "img_width = 64\n",
    "img_height = 64"
   ]
  },
  {
   "cell_type": "code",
   "execution_count": null,
   "metadata": {
    "collapsed": true
   },
   "outputs": [],
   "source": [
    "tfrecord_train = 'train.tfrecord'\n",
    "tfrecord_test = 'test.tfrecord'\n",
    "tfrecord_dir = 'tfrecords'\n",
    "\n",
    "if not os.path.exists(tfrecord_dir):\n",
    "    os.makedirs(tfrecord_dir)"
   ]
  },
  {
   "cell_type": "code",
   "execution_count": null,
   "metadata": {
    "collapsed": false
   },
   "outputs": [],
   "source": [
    "cur_dir = os.getcwd()\n",
    "image_dir = os.path.join(cur_dir, 'korean_food_small')\n",
    "\n",
    "valid_exts = ['.jpg', '.png']\n",
    "print ('{} categories in {}'.format(len(os.listdir(image_dir)), image_dir))\n",
    "\n",
    "categories = sorted(os.listdir(image_dir))\n",
    "num_categ = len(categories)\n",
    "print (categories)"
   ]
  },
  {
   "cell_type": "code",
   "execution_count": null,
   "metadata": {
    "collapsed": false,
    "scrolled": false
   },
   "outputs": [],
   "source": [
    "imgnames = []\n",
    "labels = []\n",
    "for label, category in enumerate(categories):\n",
    "    filelist = os.listdir(os.path.join(image_dir, category))\n",
    "    imglist = []\n",
    "    for f in filelist:\n",
    "        ext = os.path.splitext(f)[-1]\n",
    "        if ext.lower() not in valid_exts:\n",
    "            continue\n",
    "        img = Image.open(os.path.join(image_dir, category, f))\n",
    "        img = np.asarray(img)\n",
    "        #print(img.shape)\n",
    "        if img.shape[2] != 3:\n",
    "            #print(f)\n",
    "            continue\n",
    "        imglist.append(f)\n",
    "    imgnames += imglist\n",
    "    labels += [label]*len(imglist)\n",
    "    print('{} {} images are found'.format(len(imglist), category))"
   ]
  },
  {
   "cell_type": "code",
   "execution_count": null,
   "metadata": {
    "collapsed": false
   },
   "outputs": [],
   "source": [
    "numfiles = len(labels)\n",
    "idxrand = np.random.permutation(numfiles)\n",
    "idxtrain = idxrand[:int(0.8*numfiles)]\n",
    "idxtest = idxrand[int(0.8*numfiles):]\n",
    "print(len(idxtrain), len(idxtest))"
   ]
  },
  {
   "cell_type": "code",
   "execution_count": null,
   "metadata": {
    "collapsed": true
   },
   "outputs": [],
   "source": [
    "train_tfr_path = os.path.join(cur_dir, tfrecord_dir, tfrecord_train)\n",
    "test_tfr_path = os.path.join(cur_dir, tfrecord_dir, tfrecord_test)\n",
    "\n",
    "writer_train = tf.python_io.TFRecordWriter(train_tfr_path)\n",
    "writer_test = tf.python_io.TFRecordWriter(test_tfr_path)"
   ]
  },
  {
   "cell_type": "code",
   "execution_count": null,
   "metadata": {
    "collapsed": true
   },
   "outputs": [],
   "source": [
    "def _int64_feature(value):\n",
    "    return tf.train.Feature(int64_list=tf.train.Int64List(value=[value]))\n",
    "\n",
    "def _bytes_feature(value):\n",
    "    return tf.train.Feature(bytes_list=tf.train.BytesList(value=[value]))"
   ]
  },
  {
   "cell_type": "code",
   "execution_count": null,
   "metadata": {
    "collapsed": false
   },
   "outputs": [],
   "source": [
    "for idx in idxtrain:\n",
    "    label = labels[idx]\n",
    "    img_path = os.path.join(image_dir, categories[label], imgnames[idx])\n",
    "    \n",
    "    image = Image.open(img_path)    \n",
    "    image = image.resize((img_height, img_width))\n",
    "    \n",
    "    image = np.asarray(image)    \n",
    "    image_str = image.tobytes()\n",
    "    \n",
    "    example = tf.train.Example(features=tf.train.Features(feature={\n",
    "        'image': _bytes_feature(image_str),\n",
    "        'label': _int64_feature(label)\n",
    "    }))\n",
    "    writer_train.write(example.SerializeToString())"
   ]
  },
  {
   "cell_type": "code",
   "execution_count": null,
   "metadata": {
    "collapsed": false
   },
   "outputs": [],
   "source": [
    "for idx in idxtest:\n",
    "    label = labels[idx]\n",
    "    img_path = os.path.join(image_dir, categories[label], imgnames[idx])\n",
    "    image = Image.open(img_path)    \n",
    "    image = image.resize((img_height, img_width))\n",
    "    \n",
    "    image = np.asarray(image)    \n",
    "    image_str = image.tobytes()\n",
    "    \n",
    "    example = tf.train.Example(features=tf.train.Features(feature={\n",
    "        'image': _bytes_feature(image_str),\n",
    "        'label': _int64_feature(label)\n",
    "    }))\n",
    "    writer_test.write(example.SerializeToString())"
   ]
  },
  {
   "cell_type": "code",
   "execution_count": null,
   "metadata": {
    "collapsed": true
   },
   "outputs": [],
   "source": [
    "writer_train.close()\n",
    "writer_test.close()"
   ]
  },
  {
   "cell_type": "code",
   "execution_count": null,
   "metadata": {
    "collapsed": true
   },
   "outputs": [],
   "source": []
  }
 ],
 "metadata": {
  "kernelspec": {
   "display_name": "Python 3",
   "language": "python",
   "name": "python3"
  },
  "language_info": {
   "codemirror_mode": {
    "name": "ipython",
    "version": 3
   },
   "file_extension": ".py",
   "mimetype": "text/x-python",
   "name": "python",
   "nbconvert_exporter": "python",
   "pygments_lexer": "ipython3",
   "version": "3.5.2"
  }
 },
 "nbformat": 4,
 "nbformat_minor": 2
}
