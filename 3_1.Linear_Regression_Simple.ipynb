{
 "cells": [
  {
   "cell_type": "code",
   "execution_count": 1,
   "metadata": {
    "collapsed": true
   },
   "outputs": [],
   "source": [
    "import tensorflow as tf\n",
    "import numpy as np\n",
    "import matplotlib.pyplot as plt\n",
    "%matplotlib inline"
   ]
  },
  {
   "cell_type": "code",
   "execution_count": 2,
   "metadata": {
    "collapsed": true
   },
   "outputs": [],
   "source": [
    "# For reproducibility\n",
    "np.random.seed(777)"
   ]
  },
  {
   "cell_type": "code",
   "execution_count": 11,
   "metadata": {
    "collapsed": true
   },
   "outputs": [],
   "source": [
    "# inputs\n",
    "x = np.linspace(0, 1, 100, dtype=np.float32)\n",
    "\n",
    "# ground truth\n",
    "#slopes = np.random.normal(1, 0.5, 100).astype(np.float32)\n",
    "#intercept = 2.\n",
    "\n",
    "slopes = 1\n",
    "intercept = np.random.normal(2, 0.2, 100).astype(np.float32)\n",
    "\n",
    "# outputs\n",
    "y = x * slopes + intercept"
   ]
  },
  {
   "cell_type": "code",
   "execution_count": 12,
   "metadata": {
    "collapsed": false
   },
   "outputs": [
    {
     "data": {
      "text/plain": [
       "1"
      ]
     },
     "execution_count": 12,
     "metadata": {},
     "output_type": "execute_result"
    }
   ],
   "source": [
    "slopes"
   ]
  },
  {
   "cell_type": "code",
   "execution_count": 13,
   "metadata": {
    "collapsed": false
   },
   "outputs": [
    {
     "data": {
      "text/plain": [
       "array([ 2.17001081,  2.27781796,  2.04238892,  2.27182031,  2.00332594,\n",
       "        1.91606307,  1.97088599,  1.8200587 ,  1.96155894,  2.2296567 ,\n",
       "        2.24516511,  1.75589061,  2.15824533,  1.94971073,  1.80486739,\n",
       "        1.98426056,  1.90481877,  1.62195647,  1.98774207,  1.99280179,\n",
       "        1.94331658,  1.96269369,  2.01417994,  1.96663082,  1.96881211,\n",
       "        1.94920695,  2.06428242,  1.88927364,  1.85271835,  1.97535121,\n",
       "        2.14599109,  1.97564721,  1.9121424 ,  1.74486375,  1.84189713,\n",
       "        1.73079407,  2.10137701,  1.86958492,  2.28604603,  1.91081905,\n",
       "        1.76491857,  2.08144903,  1.70013618,  1.88557839,  2.35102296,\n",
       "        2.00363874,  2.36425662,  2.01824021,  1.85057187,  2.08347511,\n",
       "        1.96894348,  2.03533483,  2.1827848 ,  1.55614388,  1.46877015,\n",
       "        1.9911598 ,  2.00362968,  1.8318404 ,  2.24103212,  2.15591955,\n",
       "        2.31901765,  2.05875397,  1.77038729,  1.93143177,  2.05364919,\n",
       "        2.37851882,  1.6137352 ,  1.85854387,  2.08805561,  1.82364058,\n",
       "        2.11676073,  2.06169462,  1.87683332,  1.89772511,  1.91676378,\n",
       "        2.24487114,  2.08686924,  2.06437087,  2.1623714 ,  2.15062881,\n",
       "        2.11995959,  2.14346886,  1.89186692,  2.25999808,  1.78901172,\n",
       "        2.01724768,  2.07705641,  1.65694153,  2.00104332,  1.67754161,\n",
       "        2.08446026,  1.75099468,  1.73296607,  1.71411097,  2.24841166,\n",
       "        2.11196327,  2.38981366,  1.97138023,  2.03161907,  2.03725076], dtype=float32)"
      ]
     },
     "execution_count": 13,
     "metadata": {},
     "output_type": "execute_result"
    }
   ],
   "source": [
    "intercept"
   ]
  },
  {
   "cell_type": "code",
   "execution_count": 14,
   "metadata": {
    "collapsed": false
   },
   "outputs": [
    {
     "data": {
      "image/png": "[encoded data removed]",
      "text/plain": [
       "<matplotlib.figure.Figure at 0x2052e2dad30>"
      ]
     },
     "metadata": {},
     "output_type": "display_data"
    }
   ],
   "source": [
    "plt.scatter(x, y)\n",
    "plt.plot(x, x * 1 + 2., label=\"ground truth\", c=\"r\")\n",
    "plt.legend()\n",
    "plt.show()"
   ]
  },
  {
   "cell_type": "code",
   "execution_count": 15,
   "metadata": {
    "collapsed": false
   },
   "outputs": [
    {
     "data": {
      "text/plain": [
       "dtype('float32')"
      ]
     },
     "execution_count": 15,
     "metadata": {},
     "output_type": "execute_result"
    }
   ],
   "source": [
    "x.dtype"
   ]
  },
  {
   "cell_type": "code",
   "execution_count": 16,
   "metadata": {
    "collapsed": false
   },
   "outputs": [
    {
     "data": {
      "text/plain": [
       "dtype('float32')"
      ]
     },
     "execution_count": 16,
     "metadata": {},
     "output_type": "execute_result"
    }
   ],
   "source": [
    "y.dtype"
   ]
  },
  {
   "cell_type": "code",
   "execution_count": 17,
   "metadata": {
    "collapsed": false
   },
   "outputs": [
    {
     "data": {
      "text/plain": [
       "(100,)"
      ]
     },
     "execution_count": 17,
     "metadata": {},
     "output_type": "execute_result"
    }
   ],
   "source": [
    "x.shape"
   ]
  },
  {
   "cell_type": "code",
   "execution_count": 18,
   "metadata": {
    "collapsed": false
   },
   "outputs": [
    {
     "data": {
      "text/plain": [
       "(100,)"
      ]
     },
     "execution_count": 18,
     "metadata": {},
     "output_type": "execute_result"
    }
   ],
   "source": [
    "y.shape"
   ]
  },
  {
   "cell_type": "code",
   "execution_count": 19,
   "metadata": {
    "collapsed": true
   },
   "outputs": [],
   "source": [
    "# Inputs\n",
    "x_pl = tf.placeholder(tf.float32, [100,], name=\"x_pl\")\n",
    "y_pl = tf.placeholder(tf.float32, [100,], name=\"y_pl\")"
   ]
  },
  {
   "cell_type": "code",
   "execution_count": 20,
   "metadata": {
    "collapsed": true
   },
   "outputs": [],
   "source": [
    "# Computation\n",
    "## Variables = Parameters = Weights\n",
    "w = tf.Variable(.1, tf.float32)\n",
    "b = tf.Variable(0., tf.float32)"
   ]
  },
  {
   "cell_type": "code",
   "execution_count": 21,
   "metadata": {
    "collapsed": true
   },
   "outputs": [],
   "source": [
    "## prediction = y_hat = hypothesis\n",
    "preds = x_pl * w + b # (100,)"
   ]
  },
  {
   "cell_type": "code",
   "execution_count": 22,
   "metadata": {
    "collapsed": true
   },
   "outputs": [],
   "source": [
    "# objective = loss = cost\n",
    "loss = tf.reduce_mean(tf.square(preds - y)) # L2 loss"
   ]
  },
  {
   "cell_type": "code",
   "execution_count": 23,
   "metadata": {
    "collapsed": false
   },
   "outputs": [],
   "source": [
    "# Optimization = Training\n",
    "optimizer = tf.train.GradientDescentOptimizer(learning_rate=.1)\n",
    "train_op = optimizer.minimize(loss)"
   ]
  },
  {
   "cell_type": "code",
   "execution_count": 24,
   "metadata": {
    "collapsed": true
   },
   "outputs": [],
   "source": [
    "# start a session\n",
    "sess = tf.Session()"
   ]
  },
  {
   "cell_type": "code",
   "execution_count": 25,
   "metadata": {
    "collapsed": true
   },
   "outputs": [],
   "source": [
    "# initialize all variables\n",
    "sess.run(tf.global_variables_initializer())"
   ]
  },
  {
   "cell_type": "code",
   "execution_count": 26,
   "metadata": {
    "collapsed": false
   },
   "outputs": [
    {
     "name": "stdout",
     "output_type": "stream",
     "text": [
      "1 \t 6.05421 \t 0.1 \t 0.0\n",
      "2 \t 3.38923 \t 0.359337 \t 0.48779\n",
      "3 \t 1.9045 \t 0.552518 \t 0.852089\n",
      "4 \t 1.07731 \t 0.696326 \t 1.12421\n",
      "5 \t 0.616445 \t 0.803286 \t 1.32753\n",
      "6 \t 0.359676 \t 0.882747 \t 1.47948\n",
      "7 \t 0.216611 \t 0.941689 \t 1.5931\n",
      "8 \t 0.136895 \t 0.98532 \t 1.6781\n",
      "9 \t 0.0924709 \t 1.01753 \t 1.74174\n",
      "10 \t 0.0677097 \t 1.04121 \t 1.78943\n",
      "11 \t 0.0539035 \t 1.05854 \t 1.82521\n",
      "12 \t 0.0462007 \t 1.07113 \t 1.85211\n",
      "13 \t 0.0418987 \t 1.08019 \t 1.87236\n",
      "14 \t 0.0394915 \t 1.08661 \t 1.88766\n",
      "15 \t 0.0381403 \t 1.09108 \t 1.89926\n",
      "16 \t 0.0373776 \t 1.09408 \t 1.90809\n",
      "17 \t 0.0369432 \t 1.096 \t 1.91485\n",
      "18 \t 0.0366918 \t 1.09712 \t 1.92007\n",
      "19 \t 0.0365427 \t 1.09764 \t 1.92414\n",
      "20 \t 0.0364507 \t 1.09772 \t 1.92734\n"
     ]
    }
   ],
   "source": [
    "loss_list, w_list, b_list = [], [], []\n",
    "for epoch in range(20):\n",
    "    _, _loss, _w, _b = sess.run([train_op, loss, w, b], {x_pl:x, y_pl:y})\n",
    "    print(epoch+1, \"\\t\", _loss, \"\\t\", _w, \"\\t\", _b)\n",
    "    loss_list.append(_loss)\n",
    "    w_list.append(_w)\n",
    "    b_list.append(_b)"
   ]
  },
  {
   "cell_type": "code",
   "execution_count": 27,
   "metadata": {
    "collapsed": false
   },
   "outputs": [
    {
     "data": {
      "image/png": "[encoded data removed]",
      "text/plain": [
       "<matplotlib.figure.Figure at 0x2052e4c7cf8>"
      ]
     },
     "metadata": {},
     "output_type": "display_data"
    }
   ],
   "source": [
    "plt.plot(loss_list, label=\"loss\")\n",
    "plt.plot(w_list, label=\"w\")\n",
    "plt.plot(b_list, label=\"b\")\n",
    "plt.legend()\n",
    "plt.show()"
   ]
  },
  {
   "cell_type": "code",
   "execution_count": null,
   "metadata": {
    "collapsed": true
   },
   "outputs": [],
   "source": []
  }
 ],
 "metadata": {
  "kernelspec": {
   "display_name": "Python 3",
   "language": "python",
   "name": "python3"
  },
  "language_info": {
   "codemirror_mode": {
    "name": "ipython",
    "version": 3
   },
   "file_extension": ".py",
   "mimetype": "text/x-python",
   "name": "python",
   "nbconvert_exporter": "python",
   "pygments_lexer": "ipython3",
   "version": "3.5.2"
  }
 },
 "nbformat": 4,
 "nbformat_minor": 2
}
